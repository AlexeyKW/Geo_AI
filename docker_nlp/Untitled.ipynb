{
 "cells": [
  {
   "cell_type": "code",
   "execution_count": 1,
   "id": "be6cb58a-85bc-4ff1-bc73-4711e10b80ac",
   "metadata": {},
   "outputs": [
    {
     "name": "stdout",
     "output_type": "stream",
     "text": [
      "Requirement already satisfied: fastapi in e:\\datascience\\docker_nlp\\lib\\site-packages (0.88.0)\n",
      "Requirement already satisfied: uvicorn in e:\\datascience\\docker_nlp\\lib\\site-packages (0.20.0)\n",
      "Requirement already satisfied: spacy in e:\\datascience\\docker_nlp\\lib\\site-packages (3.4.4)\n",
      "Requirement already satisfied: pydantic!=1.7,!=1.7.1,!=1.7.2,!=1.7.3,!=1.8,!=1.8.1,<2.0.0,>=1.6.2 in e:\\datascience\\docker_nlp\\lib\\site-packages (from fastapi) (1.10.4)\n",
      "Requirement already satisfied: starlette==0.22.0 in e:\\datascience\\docker_nlp\\lib\\site-packages (from fastapi) (0.22.0)\n",
      "Requirement already satisfied: anyio<5,>=3.4.0 in e:\\datascience\\docker_nlp\\lib\\site-packages (from starlette==0.22.0->fastapi) (3.6.2)\n",
      "Requirement already satisfied: typing-extensions>=3.10.0 in e:\\datascience\\docker_nlp\\lib\\site-packages (from starlette==0.22.0->fastapi) (4.4.0)\n",
      "Requirement already satisfied: click>=7.0 in e:\\datascience\\docker_nlp\\lib\\site-packages (from uvicorn) (8.1.3)\n",
      "Requirement already satisfied: h11>=0.8 in e:\\datascience\\docker_nlp\\lib\\site-packages (from uvicorn) (0.14.0)\n",
      "Requirement already satisfied: packaging>=20.0 in e:\\datascience\\docker_nlp\\lib\\site-packages (from spacy) (22.0)\n",
      "Requirement already satisfied: smart-open<7.0.0,>=5.2.1 in e:\\datascience\\docker_nlp\\lib\\site-packages (from spacy) (6.3.0)\n",
      "Requirement already satisfied: thinc<8.2.0,>=8.1.0 in e:\\datascience\\docker_nlp\\lib\\site-packages (from spacy) (8.1.6)\n",
      "Requirement already satisfied: tqdm<5.0.0,>=4.38.0 in e:\\datascience\\docker_nlp\\lib\\site-packages (from spacy) (4.64.1)\n",
      "Requirement already satisfied: cymem<2.1.0,>=2.0.2 in e:\\datascience\\docker_nlp\\lib\\site-packages (from spacy) (2.0.7)\n",
      "Requirement already satisfied: pathy>=0.3.5 in e:\\datascience\\docker_nlp\\lib\\site-packages (from spacy) (0.10.1)\n",
      "Requirement already satisfied: wasabi<1.1.0,>=0.9.1 in e:\\datascience\\docker_nlp\\lib\\site-packages (from spacy) (0.10.1)\n",
      "Requirement already satisfied: langcodes<4.0.0,>=3.2.0 in e:\\datascience\\docker_nlp\\lib\\site-packages (from spacy) (3.3.0)\n",
      "Requirement already satisfied: spacy-loggers<2.0.0,>=1.0.0 in e:\\datascience\\docker_nlp\\lib\\site-packages (from spacy) (1.0.4)\n",
      "Requirement already satisfied: numpy>=1.15.0 in e:\\datascience\\docker_nlp\\lib\\site-packages (from spacy) (1.24.1)\n",
      "Requirement already satisfied: requests<3.0.0,>=2.13.0 in e:\\datascience\\docker_nlp\\lib\\site-packages (from spacy) (2.28.1)\n",
      "Requirement already satisfied: jinja2 in e:\\datascience\\docker_nlp\\lib\\site-packages (from spacy) (3.1.2)\n",
      "Requirement already satisfied: spacy-legacy<3.1.0,>=3.0.10 in e:\\datascience\\docker_nlp\\lib\\site-packages (from spacy) (3.0.11)\n",
      "Requirement already satisfied: setuptools in e:\\datascience\\docker_nlp\\lib\\site-packages (from spacy) (58.1.0)\n",
      "Requirement already satisfied: typer<0.8.0,>=0.3.0 in e:\\datascience\\docker_nlp\\lib\\site-packages (from spacy) (0.7.0)\n",
      "Requirement already satisfied: murmurhash<1.1.0,>=0.28.0 in e:\\datascience\\docker_nlp\\lib\\site-packages (from spacy) (1.0.9)\n",
      "Requirement already satisfied: srsly<3.0.0,>=2.4.3 in e:\\datascience\\docker_nlp\\lib\\site-packages (from spacy) (2.4.5)\n",
      "Requirement already satisfied: catalogue<2.1.0,>=2.0.6 in e:\\datascience\\docker_nlp\\lib\\site-packages (from spacy) (2.0.8)\n",
      "Requirement already satisfied: preshed<3.1.0,>=3.0.2 in e:\\datascience\\docker_nlp\\lib\\site-packages (from spacy) (3.0.8)\n",
      "Requirement already satisfied: colorama in e:\\datascience\\docker_nlp\\lib\\site-packages (from click>=7.0->uvicorn) (0.4.6)\n",
      "Requirement already satisfied: charset-normalizer<3,>=2 in e:\\datascience\\docker_nlp\\lib\\site-packages (from requests<3.0.0,>=2.13.0->spacy) (2.1.1)\n",
      "Requirement already satisfied: idna<4,>=2.5 in e:\\datascience\\docker_nlp\\lib\\site-packages (from requests<3.0.0,>=2.13.0->spacy) (3.4)\n",
      "Requirement already satisfied: certifi>=2017.4.17 in e:\\datascience\\docker_nlp\\lib\\site-packages (from requests<3.0.0,>=2.13.0->spacy) (2022.12.7)\n",
      "Requirement already satisfied: urllib3<1.27,>=1.21.1 in e:\\datascience\\docker_nlp\\lib\\site-packages (from requests<3.0.0,>=2.13.0->spacy) (1.26.13)\n",
      "Requirement already satisfied: confection<1.0.0,>=0.0.1 in e:\\datascience\\docker_nlp\\lib\\site-packages (from thinc<8.2.0,>=8.1.0->spacy) (0.0.3)\n",
      "Requirement already satisfied: blis<0.8.0,>=0.7.8 in e:\\datascience\\docker_nlp\\lib\\site-packages (from thinc<8.2.0,>=8.1.0->spacy) (0.7.9)\n",
      "Requirement already satisfied: MarkupSafe>=2.0 in e:\\datascience\\docker_nlp\\lib\\site-packages (from jinja2->spacy) (2.1.1)\n",
      "Requirement already satisfied: sniffio>=1.1 in e:\\datascience\\docker_nlp\\lib\\site-packages (from anyio<5,>=3.4.0->starlette==0.22.0->fastapi) (1.3.0)\n"
     ]
    },
    {
     "name": "stderr",
     "output_type": "stream",
     "text": [
      "WARNING: You are using pip version 22.0.4; however, version 22.3.1 is available.\n",
      "You should consider upgrading via the 'E:\\DataScience\\docker_nlp\\Scripts\\python.exe -m pip install --upgrade pip' command.\n"
     ]
    }
   ],
   "source": [
    "!pip install fastapi uvicorn spacy"
   ]
  },
  {
   "cell_type": "code",
   "execution_count": 1,
   "id": "ce3403d7-429e-4e93-a1a6-e88dcf38ea98",
   "metadata": {},
   "outputs": [
    {
     "ename": "ModuleNotFoundError",
     "evalue": "No module named 'spacy.cli'; 'spacy' is not a package",
     "output_type": "error",
     "traceback": [
      "\u001b[1;31m---------------------------------------------------------------------------\u001b[0m",
      "\u001b[1;31mModuleNotFoundError\u001b[0m                       Traceback (most recent call last)",
      "Cell \u001b[1;32mIn[1], line 2\u001b[0m\n\u001b[0;32m      1\u001b[0m \u001b[38;5;28;01mimport\u001b[39;00m \u001b[38;5;21;01mspacy\u001b[39;00m\n\u001b[1;32m----> 2\u001b[0m \u001b[38;5;28;01mfrom\u001b[39;00m \u001b[38;5;21;01mspacy\u001b[39;00m\u001b[38;5;21;01m.\u001b[39;00m\u001b[38;5;21;01mcli\u001b[39;00m \u001b[38;5;28;01mimport\u001b[39;00m download\n",
      "\u001b[1;31mModuleNotFoundError\u001b[0m: No module named 'spacy.cli'; 'spacy' is not a package"
     ]
    }
   ],
   "source": [
    "import spacy\n",
    "from spacy.cli import download"
   ]
  },
  {
   "cell_type": "code",
   "execution_count": 4,
   "id": "bfe58d49-e078-4657-bb63-b8da66e5b397",
   "metadata": {},
   "outputs": [],
   "source": [
    "!python -m spacy download en"
   ]
  },
  {
   "cell_type": "code",
   "execution_count": 3,
   "id": "e8178788-93c9-4e57-a9ef-e91405f99acb",
   "metadata": {},
   "outputs": [
    {
     "ename": "AttributeError",
     "evalue": "module 'spacy' has no attribute 'load'",
     "output_type": "error",
     "traceback": [
      "\u001b[1;31m---------------------------------------------------------------------------\u001b[0m",
      "\u001b[1;31mAttributeError\u001b[0m                            Traceback (most recent call last)",
      "Cell \u001b[1;32mIn[3], line 1\u001b[0m\n\u001b[1;32m----> 1\u001b[0m nlp \u001b[38;5;241m=\u001b[39m \u001b[43mspacy\u001b[49m\u001b[38;5;241;43m.\u001b[39;49m\u001b[43mload\u001b[49m(\u001b[38;5;124m\"\u001b[39m\u001b[38;5;124mru_core_news_md\u001b[39m\u001b[38;5;124m\"\u001b[39m)\n",
      "\u001b[1;31mAttributeError\u001b[0m: module 'spacy' has no attribute 'load'"
     ]
    }
   ],
   "source": [
    "nlp = spacy.load(\"ru_core_news_md\")"
   ]
  },
  {
   "cell_type": "code",
   "execution_count": null,
   "id": "d0bbd45c-0d8b-489b-8380-60f27bd79ec5",
   "metadata": {},
   "outputs": [],
   "source": []
  }
 ],
 "metadata": {
  "kernelspec": {
   "display_name": "Python 3 (ipykernel)",
   "language": "python",
   "name": "python3"
  },
  "language_info": {
   "codemirror_mode": {
    "name": "ipython",
    "version": 3
   },
   "file_extension": ".py",
   "mimetype": "text/x-python",
   "name": "python",
   "nbconvert_exporter": "python",
   "pygments_lexer": "ipython3",
   "version": "3.9.15"
  }
 },
 "nbformat": 4,
 "nbformat_minor": 5
}
